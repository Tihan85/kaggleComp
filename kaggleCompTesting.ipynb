{
 "cells": [
  {
   "cell_type": "code",
   "execution_count": 1,
   "id": "8d0b1c3c-4f67-4a4a-a7f6-e141e37d0553",
   "metadata": {},
   "outputs": [
    {
     "ename": "ModuleNotFoundError",
     "evalue": "No module named 'optiver2023.competition'",
     "output_type": "error",
     "traceback": [
      "\u001b[0;31m---------------------------------------------------------------------------\u001b[0m",
      "\u001b[0;31mModuleNotFoundError\u001b[0m                       Traceback (most recent call last)",
      "\u001b[1;32m/Users/tihanenslin/Desktop/GitHub/kaggleComps/kaggleCompTesting.ipynb Cell 1\u001b[0m line \u001b[0;36m1\n\u001b[0;32m----> <a href='vscode-notebook-cell:/Users/tihanenslin/Desktop/GitHub/kaggleComps/kaggleCompTesting.ipynb#W0sZmlsZQ%3D%3D?line=0'>1</a>\u001b[0m \u001b[39mimport\u001b[39;00m \u001b[39moptiver2023\u001b[39;00m\n\u001b[1;32m      <a href='vscode-notebook-cell:/Users/tihanenslin/Desktop/GitHub/kaggleComps/kaggleCompTesting.ipynb#W0sZmlsZQ%3D%3D?line=1'>2</a>\u001b[0m env \u001b[39m=\u001b[39m optiver2023\u001b[39m.\u001b[39mmake_env()\n\u001b[1;32m      <a href='vscode-notebook-cell:/Users/tihanenslin/Desktop/GitHub/kaggleComps/kaggleCompTesting.ipynb#W0sZmlsZQ%3D%3D?line=2'>3</a>\u001b[0m iter_test \u001b[39m=\u001b[39m env\u001b[39m.\u001b[39miter_test()\n",
      "File \u001b[0;32m~/Desktop/GitHub/kaggleComps/optiver2023/__init__.py:2\u001b[0m\n\u001b[0;32m----> 2\u001b[0m \u001b[39mfrom\u001b[39;00m \u001b[39m.\u001b[39;00m\u001b[39mcompetition\u001b[39;00m \u001b[39mimport\u001b[39;00m make_env\n\u001b[1;32m      4\u001b[0m __all__ \u001b[39m=\u001b[39m [\u001b[39m'\u001b[39m\u001b[39mmake_env\u001b[39m\u001b[39m'\u001b[39m]\n",
      "\u001b[0;31mModuleNotFoundError\u001b[0m: No module named 'optiver2023.competition'"
     ]
    }
   ],
   "source": [
    "import optiver2023\n",
    "env = optiver2023.make_env()\n",
    "iter_test = env.iter_test()"
   ]
  },
  {
   "cell_type": "code",
   "execution_count": null,
   "id": "5e283c07-66b1-46de-848b-a919e4ea1599",
   "metadata": {},
   "outputs": [],
   "source": []
  }
 ],
 "metadata": {
  "kernelspec": {
   "display_name": "Python 3 (ipykernel)",
   "language": "python",
   "name": "python3"
  },
  "language_info": {
   "codemirror_mode": {
    "name": "ipython",
    "version": 3
   },
   "file_extension": ".py",
   "mimetype": "text/x-python",
   "name": "python",
   "nbconvert_exporter": "python",
   "pygments_lexer": "ipython3",
   "version": "3.8.2"
  }
 },
 "nbformat": 4,
 "nbformat_minor": 5
}
